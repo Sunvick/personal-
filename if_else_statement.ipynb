{
  "nbformat": 4,
  "nbformat_minor": 0,
  "metadata": {
    "colab": {
      "provenance": [],
      "authorship_tag": "ABX9TyMWR7oi75VTU25//nKHvmn2",
      "include_colab_link": true
    },
    "kernelspec": {
      "name": "python3",
      "display_name": "Python 3"
    },
    "language_info": {
      "name": "python"
    }
  },
  "cells": [
    {
      "cell_type": "markdown",
      "metadata": {
        "id": "view-in-github",
        "colab_type": "text"
      },
      "source": [
        "<a href=\"https://colab.research.google.com/github/Sunvick/personal-/blob/main/if_else_statement.ipynb\" target=\"_parent\"><img src=\"https://colab.research.google.com/assets/colab-badge.svg\" alt=\"Open In Colab\"/></a>"
      ]
    },
    {
      "cell_type": "code",
      "source": [
        "a = 1\n",
        "b = 3\n",
        "if a < b :\n",
        "  print(\"a less than b\")\n",
        "elif a == b:\n",
        "  print(\"a is equal to b\")\n",
        "else: \n",
        "  print(\"a is greater than b\")  "
      ],
      "metadata": {
        "colab": {
          "base_uri": "https://localhost:8080/"
        },
        "id": "rqeKksFIqfbz",
        "outputId": "e19c666c-b1d5-4328-c64c-d576280ec2a8"
      },
      "execution_count": 1,
      "outputs": [
        {
          "output_type": "stream",
          "name": "stdout",
          "text": [
            "a less than b\n"
          ]
        }
      ]
    },
    {
      "cell_type": "code",
      "source": [
        "b = 9\n",
        "c = 2 \n",
        "if b < c:\n",
        "  print(\"b is less than c\")\n",
        "else:\n",
        "  if b == c:\n",
        "    print(\"b is equal to c\")\n",
        "  else :\n",
        "    print(\"b is greater than c \")\n",
        "\n",
        " \n",
        "\n",
        "\n",
        "\n",
        "\n",
        "\n"
      ],
      "metadata": {
        "colab": {
          "base_uri": "https://localhost:8080/"
        },
        "id": "HxIKlg2vv99u",
        "outputId": "37abe823-1559-467c-a125-c1abdd3c87ef"
      },
      "execution_count": null,
      "outputs": [
        {
          "output_type": "stream",
          "name": "stdout",
          "text": [
            "b is greater than c \n"
          ]
        }
      ]
    },
    {
      "cell_type": "code",
      "source": [],
      "metadata": {
        "id": "em8TGB7KGjxU"
      },
      "execution_count": null,
      "outputs": []
    },
    {
      "cell_type": "code",
      "source": [
        "name = \"Sunvick\"\n",
        "height_m = 2\n",
        "weight_kg = 90\n",
        "\n",
        "bmi = weight_kg / (height_m *height_m)\n",
        "print(name)\n",
        "print(bmi)\n",
        "if bmi<25:\n",
        "  print(name)\n",
        "  print(\"normal weight\")\n",
        "else:\n",
        "  print(\"over weight\")\n",
        "  print(name)\n",
        "    \n"
      ],
      "metadata": {
        "colab": {
          "base_uri": "https://localhost:8080/"
        },
        "id": "mvPnBhpnx_nq",
        "outputId": "ee1c8a20-f5e7-4a24-859e-4fe19eb6d365"
      },
      "execution_count": null,
      "outputs": [
        {
          "output_type": "stream",
          "name": "stdout",
          "text": [
            "Sunvick\n",
            "22.5\n",
            "Sunvick\n",
            "normal weight\n"
          ]
        }
      ]
    },
    {
      "cell_type": "code",
      "source": [],
      "metadata": {
        "id": "HD6knTwEuw1p"
      },
      "execution_count": null,
      "outputs": []
    }
  ]
}