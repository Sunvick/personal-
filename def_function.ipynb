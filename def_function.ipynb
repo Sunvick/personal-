{
  "nbformat": 4,
  "nbformat_minor": 0,
  "metadata": {
    "colab": {
      "provenance": [],
      "name": "def function.ipynb",
      "authorship_tag": "ABX9TyMg93xq+buSFzkqEn/r/sVP",
      "include_colab_link": true
    },
    "kernelspec": {
      "name": "python3",
      "display_name": "Python 3"
    },
    "language_info": {
      "name": "python"
    }
  },
  "cells": [
    {
      "cell_type": "markdown",
      "metadata": {
        "id": "view-in-github",
        "colab_type": "text"
      },
      "source": [
        "<a href=\"https://colab.research.google.com/github/Sunvick/personal-/blob/main/def_function.ipynb\" target=\"_parent\"><img src=\"https://colab.research.google.com/assets/colab-badge.svg\" alt=\"Open In Colab\"/></a>"
      ]
    },
    {
      "cell_type": "code",
      "execution_count": null,
      "metadata": {
        "colab": {
          "base_uri": "https://localhost:8080/"
        },
        "id": "10WU_WQ-pid-",
        "outputId": "d2501c19-02bd-4ffc-fa39-0e6a8ecd7e66"
      },
      "outputs": [
        {
          "output_type": "stream",
          "name": "stdout",
          "text": [
            " this is outside the function \n"
          ]
        }
      ],
      "source": [
        "def function1 ( ) :\n",
        "  print ( \" ahhhh \" )\n",
        "  print ( \" ahhhhh 2 \" )\n",
        "print ( \" this is outside the function \" )\n",
        "\n"
      ]
    },
    {
      "cell_type": "code",
      "source": [
        "function1()"
      ],
      "metadata": {
        "colab": {
          "base_uri": "https://localhost:8080/"
        },
        "id": "fOPD7EDTp2EM",
        "outputId": "57c57fc2-4083-4631-b364-d953d25af1fa"
      },
      "execution_count": null,
      "outputs": [
        {
          "output_type": "stream",
          "name": "stdout",
          "text": [
            " ahhhh \n",
            " ahhhhh 2 \n"
          ]
        }
      ]
    },
    {
      "cell_type": "code",
      "source": [
        "def function2(x):\n",
        "  return 2 * x \n",
        "\n",
        "a = function2(3)\n",
        "print(a)\n",
        "b = function2(5)\n",
        "print(b)\n",
        "c = function2(12)\n",
        "print(c)"
      ],
      "metadata": {
        "colab": {
          "base_uri": "https://localhost:8080/"
        },
        "id": "NJWLxL-3p9FP",
        "outputId": "8f19fff6-a401-439b-fbab-8d1addea0da1"
      },
      "execution_count": null,
      "outputs": [
        {
          "output_type": "stream",
          "name": "stdout",
          "text": [
            "6\n",
            "10\n",
            "24\n"
          ]
        }
      ]
    },
    {
      "cell_type": "code",
      "source": [
        "def Sunvick(x , y):\n",
        "  return x + y \n",
        "\n",
        "e = Sunvick(1,2)\n",
        "print(e)"
      ],
      "metadata": {
        "colab": {
          "base_uri": "https://localhost:8080/"
        },
        "id": "28xSXO5bq4nZ",
        "outputId": "bc1eedb9-6102-4801-844e-a7c27f65472f"
      },
      "execution_count": null,
      "outputs": [
        {
          "output_type": "stream",
          "name": "stdout",
          "text": [
            "3\n"
          ]
        }
      ]
    },
    {
      "cell_type": "code",
      "source": [
        "def Gencianeo(Car,Ror):\n",
        "  return Car / Ror \n",
        "\n",
        "qs1 = Gencianeo(12,4)\n",
        "print(qs1)\n",
        "  \n"
      ],
      "metadata": {
        "colab": {
          "base_uri": "https://localhost:8080/"
        },
        "id": "p8m6SW49sfbx",
        "outputId": "431f5c22-db90-4010-edad-5e1270afabf8"
      },
      "execution_count": null,
      "outputs": [
        {
          "output_type": "stream",
          "name": "stdout",
          "text": [
            "3.0\n"
          ]
        }
      ]
    },
    {
      "cell_type": "code",
      "source": [
        "def function5(x):\n",
        "  print(x)\n",
        "  print(\"still in this function \") \n",
        "  return 3 * x\n",
        "  \n",
        "f = function5(4)  # this is to print the function5 for the \"return\"\n",
        "print(f)            \n"
      ],
      "metadata": {
        "colab": {
          "base_uri": "https://localhost:8080/"
        },
        "id": "_B1s5e1iuJku",
        "outputId": "21eac6d4-7bd2-4bb6-db58-d05cf7100127"
      },
      "execution_count": null,
      "outputs": [
        {
          "output_type": "stream",
          "name": "stdout",
          "text": [
            "4\n",
            "still in this function \n",
            "12\n"
          ]
        }
      ]
    },
    {
      "cell_type": "code",
      "source": [
        "def Sunvick1(some_argument):\n",
        "  print(some_argument)\n",
        "  print(\"weee\")\n",
        "\n",
        "\n",
        "\n",
        "Sunvick1(5)\n"
      ],
      "metadata": {
        "colab": {
          "base_uri": "https://localhost:8080/"
        },
        "id": "i-l7zEppvwTl",
        "outputId": "c4b00c49-c47d-42e5-a92f-0906d8ddbf2c"
      },
      "execution_count": null,
      "outputs": [
        {
          "output_type": "stream",
          "name": "stdout",
          "text": [
            "5\n",
            "weee\n"
          ]
        }
      ]
    },
    {
      "cell_type": "code",
      "source": [
        "# BMI Calculator for many person \n",
        "name1 = \"SS\"\n",
        "height_m1 = 2 \n",
        "weight_kg1 = 90 \n",
        "\n",
        "name2 = \"RR\"\n",
        "height_m2 = 1.6\n",
        "weight_kg2 = 70\n",
        "\n",
        "name3 = \"AA\"\n",
        "height_m3 = 2.3\n",
        "weight_kg3 = 150 \n",
        "\n",
        "def bmi_calculation(name,height_m,weight_kg):\n",
        "  bmi = weight_kg / (height_m ** 2 )\n",
        "  print (\"bmi :\",bmi)\n",
        "  if bmi < 25 :\n",
        "    return name + \" is normal weight \"\n",
        "  else :\n",
        "    return name + \" over weight \"\n",
        "\n",
        "first_result = bmi_calculation(name1,height_m1,weight_kg1)\n",
        "second_result2 = bmi_calculation(name2,height_m2,weight_kg2)\n",
        "third_result3 = bmi_calculation(name3,height_m3,weight_kg3)\n",
        "\n",
        "print(first_result)\n",
        "print(second_result2)\n",
        "print(third_result3)\n",
        "\n",
        "\n",
        "     \n",
        "\n",
        "  \n"
      ],
      "metadata": {
        "colab": {
          "base_uri": "https://localhost:8080/"
        },
        "id": "3mAZlfoIwcr9",
        "outputId": "67fd451b-ac66-4a4e-a996-d423ee7aa06e"
      },
      "execution_count": null,
      "outputs": [
        {
          "output_type": "stream",
          "name": "stdout",
          "text": [
            "bmi : 22.5\n",
            "bmi : 27.343749999999996\n",
            "bmi : 28.355387523629496\n",
            "SS is normal weight \n",
            "RR over weight \n",
            "AA over weight \n"
          ]
        }
      ]
    }
  ]
}